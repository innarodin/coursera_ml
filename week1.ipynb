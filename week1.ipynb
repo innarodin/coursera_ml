{
 "cells": [
  {
   "cell_type": "markdown",
   "metadata": {},
   "source": [
    "# Предобработка данных в Pandas"
   ]
  },
  {
   "cell_type": "code",
   "execution_count": 120,
   "metadata": {},
   "outputs": [],
   "source": [
    "import numpy as np"
   ]
  },
  {
   "cell_type": "code",
   "execution_count": 8,
   "metadata": {},
   "outputs": [
    {
     "name": "stdout",
     "output_type": "stream",
     "text": [
      "[[-0.04796081  0.43443634 -0.51316078 ...  1.22389937 -0.23577401\n",
      "  -0.10168708]\n",
      " [-1.70617401  0.96022103 -1.3437397  ...  0.69756942  0.02468283\n",
      "  -1.95343014]\n",
      " [ 0.61186478  1.2206675  -0.14198527 ... -0.63030898 -1.03771604\n",
      "   0.85872176]\n",
      " ...\n",
      " [-0.84729404  0.01350363 -1.60255026 ...  0.48017629 -0.66736668\n",
      "   0.27092034]\n",
      " [-0.29126457 -0.21207428 -0.16134119 ... -0.20473781 -0.86530246\n",
      "  -0.16755906]\n",
      " [-0.6863361   0.89069578 -0.00963765 ... -1.2030911   1.14522964\n",
      "  -1.49880762]]\n"
     ]
    }
   ],
   "source": [
    "M = np.random.normal(1, 10, (1000,50))\n",
    "M = (M - np.mean(M, axis=0)) / np.std(M, axis=0)\n",
    "print(M)"
   ]
  },
  {
   "cell_type": "code",
   "execution_count": 11,
   "metadata": {},
   "outputs": [
    {
     "name": "stdout",
     "output_type": "stream",
     "text": [
      "[ 9 13  7  9 27 12]\n",
      "(array([1, 4, 5]),)\n"
     ]
    }
   ],
   "source": [
    "Z = np.array([[4, 5, 0], \n",
    "             [1, 9, 3],              \n",
    "             [5, 1, 1],\n",
    "             [3, 3, 3], \n",
    "             [9, 9, 9], \n",
    "             [4, 7, 1]])\n",
    "X = np.sum(Z, axis=1)\n",
    "print(X)\n",
    "A = np.nonzero(X > 10)\n",
    "print(A)"
   ]
  },
  {
   "cell_type": "code",
   "execution_count": 20,
   "metadata": {},
   "outputs": [
    {
     "name": "stdout",
     "output_type": "stream",
     "text": [
      "[[1. 0. 0.]\n",
      " [0. 1. 0.]\n",
      " [0. 0. 1.]]\n",
      "[[1. 0. 0.]\n",
      " [0. 1. 0.]\n",
      " [0. 0. 1.]\n",
      " [1. 0. 0.]\n",
      " [0. 1. 0.]\n",
      " [0. 0. 1.]]\n"
     ]
    }
   ],
   "source": [
    "X = np.eye(3)\n",
    "Y = np.eye(3)\n",
    "print(X)\n",
    "M = np.vstack((X,Y))\n",
    "print(M)"
   ]
  },
  {
   "cell_type": "code",
   "execution_count": 22,
   "metadata": {},
   "outputs": [],
   "source": [
    "import pandas as pd"
   ]
  },
  {
   "cell_type": "code",
   "execution_count": 25,
   "metadata": {},
   "outputs": [
    {
     "data": {
      "text/html": [
       "<div>\n",
       "<style scoped>\n",
       "    .dataframe tbody tr th:only-of-type {\n",
       "        vertical-align: middle;\n",
       "    }\n",
       "\n",
       "    .dataframe tbody tr th {\n",
       "        vertical-align: top;\n",
       "    }\n",
       "\n",
       "    .dataframe thead th {\n",
       "        text-align: right;\n",
       "    }\n",
       "</style>\n",
       "<table border=\"1\" class=\"dataframe\">\n",
       "  <thead>\n",
       "    <tr style=\"text-align: right;\">\n",
       "      <th></th>\n",
       "      <th>Survived</th>\n",
       "      <th>Pclass</th>\n",
       "      <th>Name</th>\n",
       "      <th>Sex</th>\n",
       "      <th>Age</th>\n",
       "      <th>SibSp</th>\n",
       "      <th>Parch</th>\n",
       "      <th>Ticket</th>\n",
       "      <th>Fare</th>\n",
       "      <th>Cabin</th>\n",
       "      <th>Embarked</th>\n",
       "    </tr>\n",
       "    <tr>\n",
       "      <th>PassengerId</th>\n",
       "      <th></th>\n",
       "      <th></th>\n",
       "      <th></th>\n",
       "      <th></th>\n",
       "      <th></th>\n",
       "      <th></th>\n",
       "      <th></th>\n",
       "      <th></th>\n",
       "      <th></th>\n",
       "      <th></th>\n",
       "      <th></th>\n",
       "    </tr>\n",
       "  </thead>\n",
       "  <tbody>\n",
       "    <tr>\n",
       "      <th>1</th>\n",
       "      <td>0</td>\n",
       "      <td>3</td>\n",
       "      <td>Braund, Mr. Owen Harris</td>\n",
       "      <td>male</td>\n",
       "      <td>22.0</td>\n",
       "      <td>1</td>\n",
       "      <td>0</td>\n",
       "      <td>A/5 21171</td>\n",
       "      <td>7.2500</td>\n",
       "      <td>NaN</td>\n",
       "      <td>S</td>\n",
       "    </tr>\n",
       "    <tr>\n",
       "      <th>2</th>\n",
       "      <td>1</td>\n",
       "      <td>1</td>\n",
       "      <td>Cumings, Mrs. John Bradley (Florence Briggs Th...</td>\n",
       "      <td>female</td>\n",
       "      <td>38.0</td>\n",
       "      <td>1</td>\n",
       "      <td>0</td>\n",
       "      <td>PC 17599</td>\n",
       "      <td>71.2833</td>\n",
       "      <td>C85</td>\n",
       "      <td>C</td>\n",
       "    </tr>\n",
       "    <tr>\n",
       "      <th>3</th>\n",
       "      <td>1</td>\n",
       "      <td>3</td>\n",
       "      <td>Heikkinen, Miss. Laina</td>\n",
       "      <td>female</td>\n",
       "      <td>26.0</td>\n",
       "      <td>0</td>\n",
       "      <td>0</td>\n",
       "      <td>STON/O2. 3101282</td>\n",
       "      <td>7.9250</td>\n",
       "      <td>NaN</td>\n",
       "      <td>S</td>\n",
       "    </tr>\n",
       "    <tr>\n",
       "      <th>4</th>\n",
       "      <td>1</td>\n",
       "      <td>1</td>\n",
       "      <td>Futrelle, Mrs. Jacques Heath (Lily May Peel)</td>\n",
       "      <td>female</td>\n",
       "      <td>35.0</td>\n",
       "      <td>1</td>\n",
       "      <td>0</td>\n",
       "      <td>113803</td>\n",
       "      <td>53.1000</td>\n",
       "      <td>C123</td>\n",
       "      <td>S</td>\n",
       "    </tr>\n",
       "    <tr>\n",
       "      <th>5</th>\n",
       "      <td>0</td>\n",
       "      <td>3</td>\n",
       "      <td>Allen, Mr. William Henry</td>\n",
       "      <td>male</td>\n",
       "      <td>35.0</td>\n",
       "      <td>0</td>\n",
       "      <td>0</td>\n",
       "      <td>373450</td>\n",
       "      <td>8.0500</td>\n",
       "      <td>NaN</td>\n",
       "      <td>S</td>\n",
       "    </tr>\n",
       "  </tbody>\n",
       "</table>\n",
       "</div>"
      ],
      "text/plain": [
       "             Survived  Pclass  \\\n",
       "PassengerId                     \n",
       "1                   0       3   \n",
       "2                   1       1   \n",
       "3                   1       3   \n",
       "4                   1       1   \n",
       "5                   0       3   \n",
       "\n",
       "                                                          Name     Sex   Age  \\\n",
       "PassengerId                                                                    \n",
       "1                                      Braund, Mr. Owen Harris    male  22.0   \n",
       "2            Cumings, Mrs. John Bradley (Florence Briggs Th...  female  38.0   \n",
       "3                                       Heikkinen, Miss. Laina  female  26.0   \n",
       "4                 Futrelle, Mrs. Jacques Heath (Lily May Peel)  female  35.0   \n",
       "5                                     Allen, Mr. William Henry    male  35.0   \n",
       "\n",
       "             SibSp  Parch            Ticket     Fare Cabin Embarked  \n",
       "PassengerId                                                          \n",
       "1                1      0         A/5 21171   7.2500   NaN        S  \n",
       "2                1      0          PC 17599  71.2833   C85        C  \n",
       "3                0      0  STON/O2. 3101282   7.9250   NaN        S  \n",
       "4                1      0            113803  53.1000  C123        S  \n",
       "5                0      0            373450   8.0500   NaN        S  "
      ]
     },
     "execution_count": 25,
     "metadata": {},
     "output_type": "execute_result"
    }
   ],
   "source": [
    "data = pd.read_csv('data/titanic.csv', index_col='PassengerId')\n",
    "data.head()"
   ]
  },
  {
   "cell_type": "code",
   "execution_count": 30,
   "metadata": {},
   "outputs": [
    {
     "data": {
      "text/plain": [
       "male      577\n",
       "female    314\n",
       "Name: Sex, dtype: int64"
      ]
     },
     "execution_count": 30,
     "metadata": {},
     "output_type": "execute_result"
    }
   ],
   "source": [
    "data['Sex'].value_counts()"
   ]
  },
  {
   "cell_type": "code",
   "execution_count": 77,
   "metadata": {},
   "outputs": [
    {
     "name": "stdout",
     "output_type": "stream",
     "text": [
      "Survived    0.383838\n",
      "Pclass      0.383838\n",
      "Name        0.383838\n",
      "Sex         0.383838\n",
      "Age         0.325477\n",
      "SibSp       0.383838\n",
      "Parch       0.383838\n",
      "Ticket      0.383838\n",
      "Fare        0.383838\n",
      "Cabin       0.152637\n",
      "Embarked    0.381594\n",
      "dtype: float64\n",
      "2 38.38\n"
     ]
    }
   ],
   "source": [
    "X = data[(data['Survived'] == 1)].count()\n",
    "Y = data.shape[0]\n",
    "print(X/Y)\n",
    "\n",
    "surv_counts = data['Survived'].value_counts()\n",
    "surv_percent = 100 * surv_counts[1] / surv_counts.sum()\n",
    "print(2, \"{:0.2f}\".format(surv_percent))"
   ]
  },
  {
   "cell_type": "code",
   "execution_count": 55,
   "metadata": {},
   "outputs": [
    {
     "name": "stdout",
     "output_type": "stream",
     "text": [
      "29.69911764705882\n",
      "28.0\n"
     ]
    }
   ],
   "source": [
    "X = data['Age'].mean()\n",
    "print(X)\n",
    "X = data['Age'].median()\n",
    "print(X)"
   ]
  },
  {
   "cell_type": "code",
   "execution_count": 57,
   "metadata": {},
   "outputs": [
    {
     "data": {
      "text/plain": [
       "0.41483769862015624"
      ]
     },
     "execution_count": 57,
     "metadata": {},
     "output_type": "execute_result"
    }
   ],
   "source": [
    "data['SibSp'].corr(data['Parch'])"
   ]
  },
  {
   "cell_type": "code",
   "execution_count": 75,
   "metadata": {},
   "outputs": [
    {
     "data": {
      "text/plain": [
       "PassengerId\n",
       "2      Cumings, Mrs. John Bradley (Florence Briggs Th...\n",
       "3                                 Heikkinen, Miss. Laina\n",
       "4           Futrelle, Mrs. Jacques Heath (Lily May Peel)\n",
       "9      Johnson, Mrs. Oscar W (Elisabeth Vilhelmina Berg)\n",
       "10                   Nasser, Mrs. Nicholas (Adele Achem)\n",
       "11                       Sandstrom, Miss. Marguerite Rut\n",
       "12                              Bonnell, Miss. Elizabeth\n",
       "15                  Vestrom, Miss. Hulda Amanda Adolfina\n",
       "16                      Hewlett, Mrs. (Mary D Kingcome) \n",
       "19     Vander Planke, Mrs. Julius (Emelia Maria Vande...\n",
       "20                               Masselmani, Mrs. Fatima\n",
       "23                           McGowan, Miss. Anna \"Annie\"\n",
       "25                         Palsson, Miss. Torborg Danira\n",
       "26     Asplund, Mrs. Carl Oscar (Selma Augusta Emilia...\n",
       "29                         O'Dwyer, Miss. Ellen \"Nellie\"\n",
       "32        Spencer, Mrs. William Augustus (Marie Eugenie)\n",
       "33                              Glynn, Miss. Mary Agatha\n",
       "39                    Vander Planke, Miss. Augusta Maria\n",
       "40                           Nicola-Yarred, Miss. Jamila\n",
       "41        Ahlin, Mrs. Johan (Johanna Persdotter Larsson)\n",
       "42     Turpin, Mrs. William John Robert (Dorothy Ann ...\n",
       "44              Laroche, Miss. Simonne Marie Anne Andree\n",
       "45                         Devaney, Miss. Margaret Delia\n",
       "48                             O'Driscoll, Miss. Bridget\n",
       "50         Arnold-Franchi, Mrs. Josef (Josefine Franchi)\n",
       "53              Harper, Mrs. Henry Sleeper (Myna Haxtun)\n",
       "54     Faunthorpe, Mrs. Lizzie (Elizabeth Anne Wilkin...\n",
       "57                                     Rugg, Miss. Emily\n",
       "59                          West, Miss. Constance Mirium\n",
       "62                                   Icard, Miss. Amelie\n",
       "                             ...                        \n",
       "808                      Pettersson, Miss. Ellen Natalia\n",
       "810       Chambers, Mrs. Norman Campbell (Bertha Griggs)\n",
       "814                   Andersson, Miss. Ebba Iris Alfrida\n",
       "817                         Heininen, Miss. Wendla Maria\n",
       "821    Hays, Mrs. Charles Melville (Clara Jennings Gr...\n",
       "824                                   Moor, Mrs. (Beila)\n",
       "830            Stone, Mrs. George Nelson (Martha Evelyn)\n",
       "831              Yasbeck, Mrs. Antoni (Selini Alexander)\n",
       "836                          Compton, Miss. Sara Rebecca\n",
       "843                              Serepeca, Miss. Augusta\n",
       "850         Goldenberg, Mrs. Samuel L (Edwiga Grabowska)\n",
       "853                              Boulos, Miss. Nourelain\n",
       "854                            Lines, Miss. Mary Conover\n",
       "855        Carter, Mrs. Ernest Courtenay (Lilian Hughes)\n",
       "856                           Aks, Mrs. Sam (Leah Rosen)\n",
       "857           Wick, Mrs. George Dennick (Mary Hitchcock)\n",
       "859                Baclini, Mrs. Solomon (Latifa Qurban)\n",
       "863    Swift, Mrs. Frederick Joel (Margaret Welles Ba...\n",
       "864                    Sage, Miss. Dorothy Edith \"Dolly\"\n",
       "866                             Bystrom, Mrs. (Karolina)\n",
       "867                         Duran y More, Miss. Asuncion\n",
       "872     Beckwith, Mrs. Richard Leonard (Sallie Monypeny)\n",
       "875                Abelson, Mrs. Samuel (Hannah Wizosky)\n",
       "876                     Najib, Miss. Adele Kiamie \"Jane\"\n",
       "880        Potter, Mrs. Thomas Jr (Lily Alexenia Wilson)\n",
       "881         Shelley, Mrs. William (Imanita Parrish Hall)\n",
       "883                         Dahlberg, Miss. Gerda Ulrika\n",
       "886                 Rice, Mrs. William (Margaret Norton)\n",
       "888                         Graham, Miss. Margaret Edith\n",
       "889             Johnston, Miss. Catherine Helen \"Carrie\"\n",
       "Name: Name, Length: 314, dtype: object"
      ]
     },
     "execution_count": 75,
     "metadata": {},
     "output_type": "execute_result"
    }
   ],
   "source": [
    "data[data['Sex'] == 'female']['Name']"
   ]
  },
  {
   "cell_type": "code",
   "execution_count": 122,
   "metadata": {},
   "outputs": [
    {
     "name": "stdout",
     "output_type": "stream",
     "text": [
      "24.242424242424242\n"
     ]
    }
   ],
   "source": [
    "data['Pclass'].value_counts()\n",
    "216 / data.shape[0]\n",
    "\n",
    "\n",
    "pclass_counts = data['Pclass'].value_counts()\n",
    "pclass_percent = 100.0 * pclass_counts[1] / pclass_counts.sum()\n",
    "print(pclass_percent)"
   ]
  },
  {
   "cell_type": "code",
   "execution_count": 162,
   "metadata": {},
   "outputs": [
    {
     "name": "stdout",
     "output_type": "stream",
     "text": [
      "Anna\n"
     ]
    }
   ],
   "source": [
    "import re\n",
    "def get_name(name):\n",
    "\n",
    "    s = re.search('^[^,]+, (.*)', name)\n",
    "#     print(s)\n",
    "    if s:\n",
    "        name = s.group(1)\n",
    "\n",
    "\n",
    "    s = re.search('\\(([^)]+)\\)', name)\n",
    "#     print(s)\n",
    "    if s:\n",
    "        name = s.group(1)\n",
    "\n",
    "\n",
    "    name = re.sub('(Miss\\. |Mrs\\. |Ms\\. )', '', name)\n",
    "\n",
    "\n",
    "    name = name.split(' ')[0].replace('\"', '')\n",
    "\n",
    "    return name\n",
    "\n",
    "\n",
    "names = data[data['Sex'] == 'female']['Name'].map(get_name)\n",
    "name_counts = names.value_counts()\n",
    "print(name_counts.head(1).index.values[0])"
   ]
  },
  {
   "cell_type": "code",
   "execution_count": null,
   "metadata": {},
   "outputs": [],
   "source": []
  },
  {
   "cell_type": "markdown",
   "metadata": {},
   "source": [
    "# Решающие деревья. Важность признаков"
   ]
  },
  {
   "cell_type": "code",
   "execution_count": 142,
   "metadata": {},
   "outputs": [
    {
     "data": {
      "text/html": [
       "<div>\n",
       "<style scoped>\n",
       "    .dataframe tbody tr th:only-of-type {\n",
       "        vertical-align: middle;\n",
       "    }\n",
       "\n",
       "    .dataframe tbody tr th {\n",
       "        vertical-align: top;\n",
       "    }\n",
       "\n",
       "    .dataframe thead th {\n",
       "        text-align: right;\n",
       "    }\n",
       "</style>\n",
       "<table border=\"1\" class=\"dataframe\">\n",
       "  <thead>\n",
       "    <tr style=\"text-align: right;\">\n",
       "      <th></th>\n",
       "      <th>Pclass</th>\n",
       "      <th>Fare</th>\n",
       "      <th>Age</th>\n",
       "      <th>Sex</th>\n",
       "    </tr>\n",
       "    <tr>\n",
       "      <th>PassengerId</th>\n",
       "      <th></th>\n",
       "      <th></th>\n",
       "      <th></th>\n",
       "      <th></th>\n",
       "    </tr>\n",
       "  </thead>\n",
       "  <tbody>\n",
       "    <tr>\n",
       "      <th>1</th>\n",
       "      <td>3</td>\n",
       "      <td>7.2500</td>\n",
       "      <td>22.0</td>\n",
       "      <td>male</td>\n",
       "    </tr>\n",
       "    <tr>\n",
       "      <th>2</th>\n",
       "      <td>1</td>\n",
       "      <td>71.2833</td>\n",
       "      <td>38.0</td>\n",
       "      <td>female</td>\n",
       "    </tr>\n",
       "    <tr>\n",
       "      <th>3</th>\n",
       "      <td>3</td>\n",
       "      <td>7.9250</td>\n",
       "      <td>26.0</td>\n",
       "      <td>female</td>\n",
       "    </tr>\n",
       "    <tr>\n",
       "      <th>4</th>\n",
       "      <td>1</td>\n",
       "      <td>53.1000</td>\n",
       "      <td>35.0</td>\n",
       "      <td>female</td>\n",
       "    </tr>\n",
       "    <tr>\n",
       "      <th>5</th>\n",
       "      <td>3</td>\n",
       "      <td>8.0500</td>\n",
       "      <td>35.0</td>\n",
       "      <td>male</td>\n",
       "    </tr>\n",
       "  </tbody>\n",
       "</table>\n",
       "</div>"
      ],
      "text/plain": [
       "             Pclass     Fare   Age     Sex\n",
       "PassengerId                               \n",
       "1                 3   7.2500  22.0    male\n",
       "2                 1  71.2833  38.0  female\n",
       "3                 3   7.9250  26.0  female\n",
       "4                 1  53.1000  35.0  female\n",
       "5                 3   8.0500  35.0    male"
      ]
     },
     "execution_count": 142,
     "metadata": {},
     "output_type": "execute_result"
    }
   ],
   "source": [
    "x_labels = ['Pclass', 'Fare', 'Age', 'Sex']\n",
    "X = data.loc[:, x_labels]\n",
    "X.head()"
   ]
  },
  {
   "cell_type": "code",
   "execution_count": 143,
   "metadata": {},
   "outputs": [
    {
     "data": {
      "text/html": [
       "<div>\n",
       "<style scoped>\n",
       "    .dataframe tbody tr th:only-of-type {\n",
       "        vertical-align: middle;\n",
       "    }\n",
       "\n",
       "    .dataframe tbody tr th {\n",
       "        vertical-align: top;\n",
       "    }\n",
       "\n",
       "    .dataframe thead th {\n",
       "        text-align: right;\n",
       "    }\n",
       "</style>\n",
       "<table border=\"1\" class=\"dataframe\">\n",
       "  <thead>\n",
       "    <tr style=\"text-align: right;\">\n",
       "      <th></th>\n",
       "      <th>Pclass</th>\n",
       "      <th>Fare</th>\n",
       "      <th>Age</th>\n",
       "      <th>Sex</th>\n",
       "    </tr>\n",
       "    <tr>\n",
       "      <th>PassengerId</th>\n",
       "      <th></th>\n",
       "      <th></th>\n",
       "      <th></th>\n",
       "      <th></th>\n",
       "    </tr>\n",
       "  </thead>\n",
       "  <tbody>\n",
       "    <tr>\n",
       "      <th>1</th>\n",
       "      <td>3</td>\n",
       "      <td>7.2500</td>\n",
       "      <td>22.0</td>\n",
       "      <td>1</td>\n",
       "    </tr>\n",
       "    <tr>\n",
       "      <th>2</th>\n",
       "      <td>1</td>\n",
       "      <td>71.2833</td>\n",
       "      <td>38.0</td>\n",
       "      <td>0</td>\n",
       "    </tr>\n",
       "    <tr>\n",
       "      <th>3</th>\n",
       "      <td>3</td>\n",
       "      <td>7.9250</td>\n",
       "      <td>26.0</td>\n",
       "      <td>0</td>\n",
       "    </tr>\n",
       "    <tr>\n",
       "      <th>4</th>\n",
       "      <td>1</td>\n",
       "      <td>53.1000</td>\n",
       "      <td>35.0</td>\n",
       "      <td>0</td>\n",
       "    </tr>\n",
       "    <tr>\n",
       "      <th>5</th>\n",
       "      <td>3</td>\n",
       "      <td>8.0500</td>\n",
       "      <td>35.0</td>\n",
       "      <td>1</td>\n",
       "    </tr>\n",
       "  </tbody>\n",
       "</table>\n",
       "</div>"
      ],
      "text/plain": [
       "             Pclass     Fare   Age  Sex\n",
       "PassengerId                            \n",
       "1                 3   7.2500  22.0    1\n",
       "2                 1  71.2833  38.0    0\n",
       "3                 3   7.9250  26.0    0\n",
       "4                 1  53.1000  35.0    0\n",
       "5                 3   8.0500  35.0    1"
      ]
     },
     "execution_count": 143,
     "metadata": {},
     "output_type": "execute_result"
    }
   ],
   "source": [
    "X['Sex'] = X['Sex'].map(lambda x: 1 if x == 'male' else 0)\n",
    "X.head()"
   ]
  },
  {
   "cell_type": "code",
   "execution_count": 144,
   "metadata": {},
   "outputs": [],
   "source": [
    "y = data['Survived']"
   ]
  },
  {
   "cell_type": "code",
   "execution_count": 145,
   "metadata": {},
   "outputs": [],
   "source": [
    "X = X.dropna()\n",
    "y = y[X.index.values]"
   ]
  },
  {
   "cell_type": "code",
   "execution_count": 146,
   "metadata": {},
   "outputs": [
    {
     "data": {
      "text/plain": [
       "DecisionTreeClassifier(class_weight=None, criterion='gini', max_depth=None,\n",
       "            max_features=None, max_leaf_nodes=None,\n",
       "            min_impurity_decrease=0.0, min_impurity_split=None,\n",
       "            min_samples_leaf=1, min_samples_split=2,\n",
       "            min_weight_fraction_leaf=0.0, presort=False, random_state=241,\n",
       "            splitter='best')"
      ]
     },
     "execution_count": 146,
     "metadata": {},
     "output_type": "execute_result"
    }
   ],
   "source": [
    "import pandas\n",
    "import numpy as np\n",
    "from sklearn.tree import DecisionTreeClassifier\n",
    "\n",
    "clf = DecisionTreeClassifier(random_state=241)\n",
    "clf.fit(X,y)"
   ]
  },
  {
   "cell_type": "code",
   "execution_count": 147,
   "metadata": {},
   "outputs": [
    {
     "name": "stdout",
     "output_type": "stream",
     "text": [
      "Pclass    0.140005\n",
      "Fare      0.303436\n",
      "Age       0.256046\n",
      "Sex       0.300512\n",
      "dtype: float64\n"
     ]
    }
   ],
   "source": [
    "importances = pd.Series(clf.feature_importances_, index=x_labels)\n",
    "print(importances)"
   ]
  }
 ],
 "metadata": {
  "kernelspec": {
   "display_name": "Python 3",
   "language": "python",
   "name": "python3"
  },
  "language_info": {
   "codemirror_mode": {
    "name": "ipython",
    "version": 3
   },
   "file_extension": ".py",
   "mimetype": "text/x-python",
   "name": "python",
   "nbconvert_exporter": "python",
   "pygments_lexer": "ipython3",
   "version": "3.5.2"
  }
 },
 "nbformat": 4,
 "nbformat_minor": 2
}
